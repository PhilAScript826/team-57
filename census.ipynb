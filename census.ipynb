{
 "cells": [
  {
   "cell_type": "markdown",
   "metadata": {},
   "source": [
    "# Data Cleaning Methodology"
   ]
  },
  {
   "cell_type": "markdown",
   "metadata": {},
   "source": [
    "## Census API Data Pull"
   ]
  },
  {
   "cell_type": "code",
   "execution_count": 4,
   "metadata": {},
   "outputs": [],
   "source": [
    "# Import Libraries for API Key\n",
    "from census import Census\n",
    "from us import states\n",
    "import csv\n",
    "import time\n",
    "import pdb\n",
    "import pandas as pd\n",
    "\n",
    "# Initialize Census object with API key to utilize census python wrapper to pull data\n",
    "c = Census(\"a843158c55ae161d6ec8bfe7530da4c8e5acebbc\")"
   ]
  },
  {
   "cell_type": "markdown",
   "metadata": {},
   "source": [
    "The below is an example of a dictionary we will build out that will contain all of the tables\n",
    "we intend to make request to in the census api. We will leverage the **sub-group** as the key (i.e. B17015_038E) and **description** as the value. Overall, we intend to make request for each of these categories and likely more as the project develops:\n",
    "- unemployment rate\n",
    "- Poverty Rate\n",
    "- Median Household Income rate\n",
    "- Educational Attainment\n",
    "- Race/demographics\n",
    "- Geo-location\n",
    "- AT HOME FOR THE POPULATION 25 YEARS AND OVER\n",
    "- Per capita income"
   ]
  },
  {
   "cell_type": "code",
   "execution_count": 5,
   "metadata": {},
   "outputs": [],
   "source": [
    "# Key is an example of the name that needs to be passed in to get data\n",
    "tables_dict = {\n",
    "    'B17015_038E': \"POVERTY STATUS IN THE PAST 12 MONTHS OF FAMILIES BY FAMILY TYPE BY SOCIAL SECURITY INCOME BY SUPPLEMENTAL SECURITY INCOME (SSI) AND CASH PUBLIC ASSISTANCE INCOME\"\n",
    "}"
   ]
  },
  {
   "cell_type": "markdown",
   "metadata": {},
   "source": [
    "The below cell iterates through each key in our `tables_dict`. We will use the key as the name of the csv, referncing the `tables_dict` to remember the data we are using. \n",
    "\n",
    "For each key we iterate through, we will be iterating through the years for the ACS5 dataset, which is:\n",
    "\n",
    "> The 5-year estimates from the ACS are \"period\" estimates that represent data collected over a period of time.\n",
    "\n",
    "For each year, we will:\n",
    "1. Make a get request `c.acs5.state_county` at the state-county level for the specified sub-group (i.e. B17015_038E)\n",
    "2. We will index into the first object in the response to leverage as out columns\n",
    "3. Finally, we will iterate through each state-county response and write them to the file"
   ]
  },
  {
   "cell_type": "code",
   "execution_count": 7,
   "metadata": {},
   "outputs": [],
   "source": [
    "# Years we want to collect. The census api already has this attribute, so we don't errneously\n",
    "# pull years not available\n",
    "years = c.acs5.years\n",
    "\n",
    "for key in tables_dict.keys():\n",
    "    with open(f'{key}.csv', 'w', newline='') as csvfile:\n",
    "        spamwriter = csv.writer(csvfile)\n",
    "        \n",
    "        # Iterate through years\n",
    "        for idx, year in enumerate(years):\n",
    "            \n",
    "            # Fetch data\n",
    "            response = c.acs5.state_county(('NAME', key), Census.ALL, Census.ALL, year=year)\n",
    "            \n",
    "            # Check if this is the first index so we don't re-write headers each time.\n",
    "            if idx == 0:\n",
    "                # Collect columns and write them as the header\n",
    "                columns = list(response[0].keys()) + ['year']\n",
    "                spamwriter.writerow(columns)\n",
    "            \n",
    "            # Iterate through each nested response and write them to the csv \n",
    "            for row in response:\n",
    "                #pdb.set_trace()\n",
    "                spamwriter.writerow([row[name] for name in list(response[0].keys())] + [year])\n",
    "            \n",
    "            # Delay script every 30 secs so that we don't get flagged for request abuse\n",
    "            time.sleep(30)"
   ]
  },
  {
   "cell_type": "markdown",
   "metadata": {},
   "source": [
    "Once all of the data has been collected, we will do some data cleaning. Example of this is shown below, splitting the *state* and *county* from the **NAME** column and placing them into their respective columns.\n",
    "\n",
    "In addition to the above, we intend to:\n",
    "- Aggregate *geo-location* and other elements to the tables we create.\n",
    "- Assess `Null`/`0` values to see if we want to retain them"
   ]
  },
  {
   "cell_type": "code",
   "execution_count": 2,
   "metadata": {},
   "outputs": [],
   "source": [
    "# Read data in\n",
    "df = pd.read_csv('B17015_038E.csv')"
   ]
  },
  {
   "cell_type": "code",
   "execution_count": 7,
   "metadata": {},
   "outputs": [
    {
     "data": {
      "text/html": [
       "<div>\n",
       "<style scoped>\n",
       "    .dataframe tbody tr th:only-of-type {\n",
       "        vertical-align: middle;\n",
       "    }\n",
       "\n",
       "    .dataframe tbody tr th {\n",
       "        vertical-align: top;\n",
       "    }\n",
       "\n",
       "    .dataframe thead th {\n",
       "        text-align: right;\n",
       "    }\n",
       "</style>\n",
       "<table border=\"1\" class=\"dataframe\">\n",
       "  <thead>\n",
       "    <tr style=\"text-align: right;\">\n",
       "      <th></th>\n",
       "      <th>NAME</th>\n",
       "      <th>B17015_038E</th>\n",
       "      <th>state</th>\n",
       "      <th>county</th>\n",
       "      <th>year</th>\n",
       "    </tr>\n",
       "  </thead>\n",
       "  <tbody>\n",
       "    <tr>\n",
       "      <th>0</th>\n",
       "      <td>Washington County, Mississippi</td>\n",
       "      <td>497.0</td>\n",
       "      <td>28</td>\n",
       "      <td>151</td>\n",
       "      <td>2018</td>\n",
       "    </tr>\n",
       "    <tr>\n",
       "      <th>1</th>\n",
       "      <td>Perry County, Mississippi</td>\n",
       "      <td>124.0</td>\n",
       "      <td>28</td>\n",
       "      <td>111</td>\n",
       "      <td>2018</td>\n",
       "    </tr>\n",
       "    <tr>\n",
       "      <th>2</th>\n",
       "      <td>Choctaw County, Mississippi</td>\n",
       "      <td>46.0</td>\n",
       "      <td>28</td>\n",
       "      <td>19</td>\n",
       "      <td>2018</td>\n",
       "    </tr>\n",
       "    <tr>\n",
       "      <th>3</th>\n",
       "      <td>Itawamba County, Mississippi</td>\n",
       "      <td>212.0</td>\n",
       "      <td>28</td>\n",
       "      <td>57</td>\n",
       "      <td>2018</td>\n",
       "    </tr>\n",
       "    <tr>\n",
       "      <th>4</th>\n",
       "      <td>Carroll County, Mississippi</td>\n",
       "      <td>41.0</td>\n",
       "      <td>28</td>\n",
       "      <td>15</td>\n",
       "      <td>2018</td>\n",
       "    </tr>\n",
       "  </tbody>\n",
       "</table>\n",
       "</div>"
      ],
      "text/plain": [
       "                             NAME  B17015_038E  state  county  year\n",
       "0  Washington County, Mississippi        497.0     28     151  2018\n",
       "1       Perry County, Mississippi        124.0     28     111  2018\n",
       "2     Choctaw County, Mississippi         46.0     28      19  2018\n",
       "3    Itawamba County, Mississippi        212.0     28      57  2018\n",
       "4     Carroll County, Mississippi         41.0     28      15  2018"
      ]
     },
     "execution_count": 7,
     "metadata": {},
     "output_type": "execute_result"
    }
   ],
   "source": [
    "df.head()"
   ]
  },
  {
   "cell_type": "code",
   "execution_count": 12,
   "metadata": {},
   "outputs": [],
   "source": [
    "# Split and pass into columns\n",
    "df['county'] = df['NAME'].str.split(',').str[0]\n",
    "df['state'] = df['NAME'].str.split(',').str[1]\n",
    "df.drop('NAME', inplace=True, axis=1)"
   ]
  },
  {
   "cell_type": "code",
   "execution_count": 20,
   "metadata": {},
   "outputs": [
    {
     "data": {
      "text/html": [
       "<div>\n",
       "<style scoped>\n",
       "    .dataframe tbody tr th:only-of-type {\n",
       "        vertical-align: middle;\n",
       "    }\n",
       "\n",
       "    .dataframe tbody tr th {\n",
       "        vertical-align: top;\n",
       "    }\n",
       "\n",
       "    .dataframe thead th {\n",
       "        text-align: right;\n",
       "    }\n",
       "</style>\n",
       "<table border=\"1\" class=\"dataframe\">\n",
       "  <thead>\n",
       "    <tr style=\"text-align: right;\">\n",
       "      <th></th>\n",
       "      <th>B17015_038E</th>\n",
       "      <th>state</th>\n",
       "      <th>county</th>\n",
       "      <th>year</th>\n",
       "    </tr>\n",
       "  </thead>\n",
       "  <tbody>\n",
       "    <tr>\n",
       "      <th>0</th>\n",
       "      <td>497.0</td>\n",
       "      <td>Mississippi</td>\n",
       "      <td>Washington County</td>\n",
       "      <td>2018</td>\n",
       "    </tr>\n",
       "    <tr>\n",
       "      <th>1</th>\n",
       "      <td>124.0</td>\n",
       "      <td>Mississippi</td>\n",
       "      <td>Perry County</td>\n",
       "      <td>2018</td>\n",
       "    </tr>\n",
       "    <tr>\n",
       "      <th>2</th>\n",
       "      <td>46.0</td>\n",
       "      <td>Mississippi</td>\n",
       "      <td>Choctaw County</td>\n",
       "      <td>2018</td>\n",
       "    </tr>\n",
       "    <tr>\n",
       "      <th>3</th>\n",
       "      <td>212.0</td>\n",
       "      <td>Mississippi</td>\n",
       "      <td>Itawamba County</td>\n",
       "      <td>2018</td>\n",
       "    </tr>\n",
       "    <tr>\n",
       "      <th>4</th>\n",
       "      <td>41.0</td>\n",
       "      <td>Mississippi</td>\n",
       "      <td>Carroll County</td>\n",
       "      <td>2018</td>\n",
       "    </tr>\n",
       "  </tbody>\n",
       "</table>\n",
       "</div>"
      ],
      "text/plain": [
       "   B17015_038E         state             county  year\n",
       "0        497.0   Mississippi  Washington County  2018\n",
       "1        124.0   Mississippi       Perry County  2018\n",
       "2         46.0   Mississippi     Choctaw County  2018\n",
       "3        212.0   Mississippi    Itawamba County  2018\n",
       "4         41.0   Mississippi     Carroll County  2018"
      ]
     },
     "execution_count": 20,
     "metadata": {},
     "output_type": "execute_result"
    }
   ],
   "source": [
    "df.head()"
   ]
  },
  {
   "cell_type": "code",
   "execution_count": 19,
   "metadata": {},
   "outputs": [
    {
     "data": {
      "text/plain": [
       "(235, 4)"
      ]
     },
     "execution_count": 19,
     "metadata": {},
     "output_type": "execute_result"
    }
   ],
   "source": [
    "# Identify how many 0 values exist in df\n",
    "df[df['B17015_038E'] == 0].shape"
   ]
  },
  {
   "cell_type": "code",
   "execution_count": null,
   "metadata": {},
   "outputs": [],
   "source": []
  }
 ],
 "metadata": {
  "kernelspec": {
   "display_name": "Python 3",
   "language": "python",
   "name": "python3"
  },
  "language_info": {
   "codemirror_mode": {
    "name": "ipython",
    "version": 3
   },
   "file_extension": ".py",
   "mimetype": "text/x-python",
   "name": "python",
   "nbconvert_exporter": "python",
   "pygments_lexer": "ipython3",
   "version": "3.7.3"
  }
 },
 "nbformat": 4,
 "nbformat_minor": 2
}
